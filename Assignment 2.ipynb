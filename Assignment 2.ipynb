{
 "cells": [
  {
   "cell_type": "markdown",
   "id": "3b000c4d-19d7-4636-a852-972e00fb02f4",
   "metadata": {},
   "source": [
    "Assignment 2\n",
    "---"
   ]
  },
  {
   "cell_type": "markdown",
   "id": "dfd66fa3-a8dc-4e25-a539-e7c8dd95adeb",
   "metadata": {},
   "source": []
  },
  {
   "cell_type": "code",
   "execution_count": 2,
   "id": "86ada977-2c02-49c1-acb1-12bdad971d42",
   "metadata": {},
   "outputs": [],
   "source": [
    "import numpy as np"
   ]
  },
  {
   "cell_type": "markdown",
   "id": "bafd53d2-eb35-4e0a-b9b6-aa8b3979c884",
   "metadata": {},
   "source": [
    "Checking 2x2 cases"
   ]
  },
  {
   "cell_type": "code",
   "execution_count": 3,
   "id": "900eeb9c-2b06-4bf3-bdf6-7f91fb5276c0",
   "metadata": {},
   "outputs": [],
   "source": [
    "s = (2,2)"
   ]
  },
  {
   "cell_type": "code",
   "execution_count": 15,
   "id": "5900866a-fa31-4004-bd6b-4397a24ffcc3",
   "metadata": {},
   "outputs": [
    {
     "name": "stdout",
     "output_type": "stream",
     "text": [
      "[[1. 1.]\n",
      " [0. 0.]]\n",
      "0.0\n"
     ]
    }
   ],
   "source": [
    "A = np.zeros(s)\n",
    "A[0][0] = 1\n",
    "A[0][1] = 1\n",
    "det = np.linalg.det(A) \n",
    "print(A)\n",
    "print(det)"
   ]
  },
  {
   "cell_type": "code",
   "execution_count": 16,
   "id": "376f95c5-82b1-46e5-8966-d53ff5d1cffd",
   "metadata": {},
   "outputs": [
    {
     "name": "stdout",
     "output_type": "stream",
     "text": [
      "[[1. 0.]\n",
      " [1. 0.]]\n",
      "0.0\n"
     ]
    }
   ],
   "source": [
    "A = np.zeros(s)\n",
    "A[0][0] = 1\n",
    "A[1][0] = 1\n",
    "det = np.linalg.det(A) \n",
    "print(A)\n",
    "print(det)"
   ]
  },
  {
   "cell_type": "code",
   "execution_count": 17,
   "id": "3fec3437-7ede-402f-b261-be23aea44315",
   "metadata": {},
   "outputs": [
    {
     "name": "stdout",
     "output_type": "stream",
     "text": [
      "[[1. 0.]\n",
      " [0. 1.]]\n",
      "1.0\n"
     ]
    }
   ],
   "source": [
    "A = np.zeros(s)\n",
    "A[0][0] = 1\n",
    "A[1][1] = 1\n",
    "det = np.linalg.det(A) \n",
    "print(A)\n",
    "print(det)"
   ]
  },
  {
   "cell_type": "code",
   "execution_count": 18,
   "id": "ad6dfe86-b779-4f8a-b7f4-ed1e03c44123",
   "metadata": {},
   "outputs": [
    {
     "name": "stdout",
     "output_type": "stream",
     "text": [
      "[[0. 1.]\n",
      " [1. 0.]]\n",
      "-1.0\n"
     ]
    }
   ],
   "source": [
    "A = np.zeros(s)\n",
    "A[1][0] = 1\n",
    "A[0][1] = 1\n",
    "det = np.linalg.det(A) \n",
    "print(A)\n",
    "print(det)"
   ]
  },
  {
   "cell_type": "code",
   "execution_count": 19,
   "id": "c490913b-d918-4d50-888a-6d938d3cc3f8",
   "metadata": {},
   "outputs": [
    {
     "name": "stdout",
     "output_type": "stream",
     "text": [
      "[[0. 1.]\n",
      " [0. 1.]]\n",
      "0.0\n"
     ]
    }
   ],
   "source": [
    "A = np.zeros(s)\n",
    "A[1][1] = 1\n",
    "A[0][1] = 1\n",
    "det = np.linalg.det(A) \n",
    "print(A)\n",
    "print(det)"
   ]
  },
  {
   "cell_type": "code",
   "execution_count": 20,
   "id": "eb9307f1-da59-4420-be89-0c13d0737dec",
   "metadata": {},
   "outputs": [
    {
     "name": "stdout",
     "output_type": "stream",
     "text": [
      "[[0. 0.]\n",
      " [1. 1.]]\n",
      "0.0\n"
     ]
    }
   ],
   "source": [
    "A = np.zeros(s)\n",
    "A[1][0] = 1\n",
    "A[1][1] = 1\n",
    "det = np.linalg.det(A) \n",
    "print(A)\n",
    "print(det)"
   ]
  },
  {
   "cell_type": "markdown",
   "id": "4915d85a-074a-4e65-9ecd-21c9874a0568",
   "metadata": {},
   "source": [
    "Checking 2x2 determinants for all matrices only using 0's and 1's.\n",
    "All 0s and 1 non zero cases"
   ]
  },
  {
   "cell_type": "code",
   "execution_count": 5,
   "id": "3c104419-a2dd-4afb-a2a8-5049c54a5f60",
   "metadata": {},
   "outputs": [],
   "source": [
    "A = np.zeros(s)\n",
    "for i in range(2):\n",
    "    for j in range(2):\n",
    "        test = A\n",
    "        test[i][j] = 1\n",
    "        det = np.linalg.det(test) \n",
    "        if det != -1:\n",
    "            if det != 0:\n",
    "                if det != 1:\n",
    "                    print(\"False\")"
   ]
  },
  {
   "cell_type": "markdown",
   "id": "d4f5803c-a838-41d1-a7d2-41f76dcd3871",
   "metadata": {},
   "source": [
    "The 2 ones cases are checked above so now the all 1's and 3 1's cases"
   ]
  },
  {
   "cell_type": "code",
   "execution_count": 8,
   "id": "9da15003-ed2a-4ce7-aa2b-672895ed8280",
   "metadata": {},
   "outputs": [],
   "source": [
    "A = np.ones(s)\n",
    "det = np.linalg.det(A) \n",
    "if det != -1:\n",
    "    if det != 0:\n",
    "        if det != 1:\n",
    "            print(\"False\")\n",
    "for i in range(2):\n",
    "    for j in range(2):\n",
    "        test = A\n",
    "        test[i][j] = 0\n",
    "        det = np.linalg.det(test) \n",
    "        if det != -1:\n",
    "            if det != 0:\n",
    "                if det != 1:\n",
    "                    print(\"False\")"
   ]
  },
  {
   "cell_type": "code",
   "execution_count": null,
   "id": "73eb5df5-8047-4024-a8d4-bc46e744f6bc",
   "metadata": {},
   "outputs": [],
   "source": []
  }
 ],
 "metadata": {
  "kernelspec": {
   "display_name": "Python 3 (ipykernel)",
   "language": "python",
   "name": "python3"
  },
  "language_info": {
   "codemirror_mode": {
    "name": "ipython",
    "version": 3
   },
   "file_extension": ".py",
   "mimetype": "text/x-python",
   "name": "python",
   "nbconvert_exporter": "python",
   "pygments_lexer": "ipython3",
   "version": "3.9.7"
  }
 },
 "nbformat": 4,
 "nbformat_minor": 5
}
