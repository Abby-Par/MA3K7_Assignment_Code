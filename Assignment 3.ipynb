{
 "cells": [
  {
   "cell_type": "code",
   "execution_count": 1,
   "id": "52b6cfe4-0b67-4024-a541-0a399dd71f9f",
   "metadata": {},
   "outputs": [],
   "source": [
    "import numpy as np\n",
    "import random\n",
    "import matplotlib.pyplot as plt"
   ]
  },
  {
   "cell_type": "markdown",
   "id": "6591c90e-c267-4680-927a-0fc503f419d7",
   "metadata": {},
   "source": [
    "Assignment 3\n",
    "---"
   ]
  },
  {
   "cell_type": "markdown",
   "id": "4a11f5d0-ec6d-465f-92c7-aad0eb357635",
   "metadata": {},
   "source": [
    "The initial code i developed with using size = 5 instead of 2024 with the print statements I used for checking."
   ]
  },
  {
   "cell_type": "code",
   "execution_count": 3,
   "id": "b90ed30c-ac3d-4bc6-9f3a-e3822ad328e7",
   "metadata": {},
   "outputs": [
    {
     "name": "stdout",
     "output_type": "stream",
     "text": [
      "[1 2 3 4 5]\n"
     ]
    }
   ],
   "source": [
    "size = 5\n",
    "Hat = np.arange(1,size+1)\n",
    "print(Hat)"
   ]
  },
  {
   "cell_type": "code",
   "execution_count": 4,
   "id": "540100fd-3070-4b9f-804a-a9b75a8e956e",
   "metadata": {},
   "outputs": [
    {
     "name": "stdout",
     "output_type": "stream",
     "text": [
      "First random number is  2\n",
      "Second random number is  3\n",
      "First paper chosen is  3\n",
      "Second paper chosen is  4\n",
      "[1 2 5 1]\n",
      "First random number is  2\n",
      "Second random number is  2\n",
      "First random number is  3\n",
      "Second random number is  1\n",
      "First paper chosen is  1\n",
      "Second paper chosen is  2\n",
      "[1 5 1]\n",
      "First random number is  0\n",
      "Second random number is  0\n",
      "First random number is  1\n",
      "Second random number is  2\n",
      "First paper chosen is  5\n",
      "Second paper chosen is  1\n",
      "[1 4]\n",
      "First paper chosen is  1\n",
      "Second paper chosen is  4\n",
      "[3]\n",
      "[3]\n"
     ]
    }
   ],
   "source": [
    "for j in range(size-1):\n",
    "    if size == 2:\n",
    "        rand1 = 0\n",
    "        rand2 = 1\n",
    "    else:\n",
    "        rand1 = random.randrange(0,size)\n",
    "        print(\"First random number is \", rand1)\n",
    "        rand2 = random.randrange(0,size)\n",
    "        print(\"Second random number is \",rand2)\n",
    "    while rand1==rand2:\n",
    "        rand1 = random.randrange(0,size)\n",
    "        print(\"First random number is \", rand1)\n",
    "        rand2 = random.randrange(0,size)\n",
    "        print(\"Second random number is \",rand2)\n",
    "    numb1 = Hat[rand1]\n",
    "    print(\"First paper chosen is \",numb1)\n",
    "    numb2 = Hat[rand2]\n",
    "    print(\"Second paper chosen is \",numb2)\n",
    "    if rand1 > rand2:\n",
    "        Hat = np.delete(Hat, rand1)\n",
    "        Hat = np.delete(Hat, rand2)\n",
    "    else:\n",
    "        Hat = np.delete(Hat, rand2)\n",
    "        Hat = np.delete(Hat, rand1)\n",
    "    if numb1>numb2:\n",
    "        diff = numb1 - numb2\n",
    "    else:\n",
    "        diff = numb2 - numb1\n",
    "    Hat = np.append(Hat, diff)\n",
    "    print(Hat)\n",
    "    size -= 1\n",
    "\n",
    "print(Hat)"
   ]
  },
  {
   "cell_type": "markdown",
   "id": "6ee5ef0f-960b-41d1-a096-10fad05c16ae",
   "metadata": {},
   "source": [
    "My code to run the procedure x times with size = 2024 and store the final paper values in the array results."
   ]
  },
  {
   "cell_type": "code",
   "execution_count": 5,
   "id": "b2d15aab-5126-4cdf-a237-1299b70c08a3",
   "metadata": {},
   "outputs": [],
   "source": [
    "def paper_remover(x):\n",
    "    results = np.zeros(x)\n",
    "    for i in range(x):\n",
    "        size = 2024\n",
    "        Hat = np.arange(1,size+1)\n",
    "\n",
    "        for j in range(size-1):\n",
    "            if size == 2:\n",
    "                rand1 = 0\n",
    "                rand2 = 1\n",
    "            else:\n",
    "                rand1 = random.randrange(0,size)\n",
    "                rand2 = random.randrange(0,size)\n",
    "            while rand1==rand2:\n",
    "                rand1 = random.randrange(0,size)\n",
    "                rand2 = random.randrange(0,size)\n",
    "            numb1 = Hat[rand1]\n",
    "            numb2 = Hat[rand2]\n",
    "            if rand1 > rand2:\n",
    "                Hat = np.delete(Hat, rand1)\n",
    "                Hat = np.delete(Hat, rand2)\n",
    "            else:\n",
    "                Hat = np.delete(Hat, rand2)\n",
    "                Hat = np.delete(Hat, rand1)\n",
    "            if numb1>numb2:\n",
    "                diff = numb1 - numb2\n",
    "            else:\n",
    "                diff = numb2 - numb1\n",
    "            Hat = np.append(Hat, diff)\n",
    "            size -= 1\n",
    "        results[i] = Hat[0]\n",
    "    return results"
   ]
  },
  {
   "cell_type": "code",
   "execution_count": 6,
   "id": "f5169ad1-118c-4802-9176-1b67de07e79d",
   "metadata": {},
   "outputs": [],
   "source": [
    "x = 20\n",
    "res_20 = paper_remover(x)"
   ]
  },
  {
   "cell_type": "code",
   "execution_count": 15,
   "id": "0b80e6ec-a690-4ec5-b033-67b64c3c7c5b",
   "metadata": {},
   "outputs": [
    {
     "name": "stdout",
     "output_type": "stream",
     "text": [
      "[110. 326. 298. 134.  48. 290. 772. 422.  42.   2. 358. 268. 682. 498.\n",
      "  86. 226.  38. 312. 550. 254.]\n"
     ]
    },
    {
     "data": {
      "image/png": "[encoded data removed]",
      "text/plain": [
       "<Figure size 432x288 with 1 Axes>"
      ]
     },
     "metadata": {
      "needs_background": "light"
     },
     "output_type": "display_data"
    }
   ],
   "source": [
    "print(res_20)\n",
    "plt.boxplot(res_20)\n",
    "plt.ylabel(\"Final Paper Value\")\n",
    "plt.savefig(\"Box1.png\")\n",
    "plt.show()"
   ]
  },
  {
   "cell_type": "code",
   "execution_count": 8,
   "id": "930e822e-28e1-4f96-b27c-2f32654b0542",
   "metadata": {},
   "outputs": [],
   "source": [
    "x=100\n",
    "res_100 = paper_remover(x)"
   ]
  },
  {
   "cell_type": "code",
   "execution_count": 16,
   "id": "0eb70398-6576-4d14-a5f5-3787ce8f5b24",
   "metadata": {},
   "outputs": [
    {
     "name": "stdout",
     "output_type": "stream",
     "text": [
      "[ 576.  342.  120.  118.  256.  146.    6.  142.   36.  180.   72.    0.\n",
      "  640. 1066.  302.  158.  252.  242.  302.  352.  132.  188.   32. 1056.\n",
      "  118.  316.  306.   94. 1404.  276.  380.  198.  504.  870.   90.  136.\n",
      "  354.    8.  240.  258.  218.  604.  272.   18.  550.  926.   20.  804.\n",
      "  106.  242.  182.  348.  826.  518. 1210.  178.   32.  158.  154.   76.\n",
      "  272.  250. 1052.   74. 1198.   28.  210.  312.  514.  330.  100.  114.\n",
      "  604.  444.  444.  988.  184.  128. 1230.  274.  146. 1210.  152.  106.\n",
      "  308.  774.  162.  220.  342.  686.  528.  910.  178.   22.   58.  430.\n",
      "  484. 1414.  154.  600.]\n"
     ]
    },
    {
     "data": {
      "image/png": "[encoded data removed]",
      "text/plain": [
       "<Figure size 432x288 with 1 Axes>"
      ]
     },
     "metadata": {
      "needs_background": "light"
     },
     "output_type": "display_data"
    }
   ],
   "source": [
    "print(res_100)\n",
    "plt.boxplot(res_100)\n",
    "plt.ylabel(\"Final Paper Value\")\n",
    "plt.savefig(\"Box2.png\")\n",
    "plt.show()"
   ]
  },
  {
   "cell_type": "code",
   "execution_count": 13,
   "id": "1af42adb-f621-4d73-94bc-34cd1ec08125",
   "metadata": {},
   "outputs": [],
   "source": [
    "x=500\n",
    "res_500 = paper_remover(x)"
   ]
  },
  {
   "cell_type": "code",
   "execution_count": 17,
   "id": "941a9067-fe92-496f-ad13-9ef2b86d9ed7",
   "metadata": {},
   "outputs": [
    {
     "name": "stdout",
     "output_type": "stream",
     "text": [
      "[  38.  380.  184. 1254.  268.  386.  334. 1038. 1076.  730.   36.  354.\n",
      "  250.  412.  436.  382.  190.  402.  810.  248.  384.  318.   96.   14.\n",
      "    2.  354.  158.  298.  206.  158.  202.  254.  668.  146.  986.  340.\n",
      "  260.   88.  604.   26.  260.  196.   74.  566.  114.  570.  120.  586.\n",
      "  852.  508.   62.  236.   40.  628.   62.   50.  750.  158.  314.  368.\n",
      "   84.  300.  434.  218.  148.   32.  322.  180.   50.  210.  782. 1306.\n",
      "   20.  510.  226.  306.  124.  370.  332.   30.  928.   26.  212.  270.\n",
      "  102.  414.    8.  960.  258.  366.  512.   30.   92.  440.   84.   58.\n",
      "  718.  496.  378.  360.  874.  556.  814.  586.  698.  784.  312.  552.\n",
      "  196.   34.  274.  100.   10.   12.  304.  298.   56.    2.  410.  376.\n",
      "   38.  318.   84.  646.  130.  480.   72.  846. 1046.   32.  144.  706.\n",
      "  206.  668.  816.  106.  214.   68.  362.  808.  178.   18.   68.  188.\n",
      "  342.  252.  634.    4.  688.  258.  766.   32.  890.  114.  150.  234.\n",
      "   78.  944.  348.  140.  644. 1214.  234.  208.  374.  206.  456.  668.\n",
      "   82.  608.  230.   68.  728.   34.  352.   28.   76.  222.   16.  396.\n",
      "  572.  120.  336.  142.  820.  442.  404.  154.  780.  904.  824.   44.\n",
      "  480.  348.  700.  144.  400.  194.   80.  412.  424.  284.  420.   94.\n",
      "  572.   16.    6.  248.  370.  180.  256.  334.  246.  896.  556.  190.\n",
      "  978.   82.   14.  590.  128.   92.  296.  298.  264.   78.  674.   78.\n",
      "  184.  398.   10.  238.  764.    0.  316.  690.  634.  818.   20.   46.\n",
      "  190.  840.  110.  222.  734.  202.  310.  534.  544.  386.  786.  476.\n",
      "  100.  116.  138.   16.   40.  582.  208.  572.  946.  362.  518.  814.\n",
      "  264.  190.    6.  628.  316.  940.  640.  296.  960.  180.  106. 1174.\n",
      "   34.  506.   84.  122.  264.  102.  626.  186.  106.  252.  976.  270.\n",
      " 1358.  192.  136.   54.  130.    0.  112. 1644.   94.  746.  268.    6.\n",
      "   12.   18.  320.   78.   74.  434.  156.  142. 1048.  482.   46.  276.\n",
      "  386.  556.    4.  618.  238.  250.  324.   10.  144.  282.  370.   20.\n",
      "  988.  354.   84.  366.   96.  110.  272.  836.  122.  128.   64.  496.\n",
      "   60.  128.    4.  162.  230.  104.  772.  134.  202. 1106.  804.  184.\n",
      "   10.   56.   76.  560.   74.  154.  188.  944.  786.  538.  178.  454.\n",
      "  482.  944.   42.  136.   44.  510.   68.  712.   30.   92.  620.  444.\n",
      "  596.   34.  318.   30.   24.  268.    4.  178.   76.   38.  238.   96.\n",
      "  464.   48.    0.   44.  278.  332.   38.   36.  248.  238.   34.  380.\n",
      "  538.  116.   74.   74.  252.  586.  844.  702.  660.   36.  188.  240.\n",
      "  820.  256.   72.  216.    6.  210.   36.   38.  366.  608.  306.  288.\n",
      "  184.  356.  238.   46.  348.  256.   60.  284.  360.  180.  704.  302.\n",
      "  214.   58.  172.  458.  588.  180.  110.  380.  510.  720.   32.  328.\n",
      "    2.  130.  714.  140.  352.   20.  334.  550.  228.   44.   58.   82.\n",
      "   68.  182. 1156.   68.  164.  138.  296.  228.  124.   10.  600.  186.\n",
      "  784.  140.  278.  616.  680.  264.  724.   42.  204.  160.  110.   14.\n",
      "  562.  136.  706.  278.  304. 1174.  146.  150. 1300.  146.  296.   88.\n",
      "   88.  184.  162.  376.  146.   96.  176.    2.]\n"
     ]
    },
    {
     "data": {
      "image/png": "[encoded data removed]",
      "text/plain": [
       "<Figure size 432x288 with 1 Axes>"
      ]
     },
     "metadata": {
      "needs_background": "light"
     },
     "output_type": "display_data"
    }
   ],
   "source": [
    "print(res_500)\n",
    "plt.boxplot(res_500)\n",
    "plt.ylabel(\"Final Paper Value\")\n",
    "plt.savefig(\"Box3.png\")\n",
    "plt.show()"
   ]
  },
  {
   "cell_type": "code",
   "execution_count": 57,
   "id": "990f97aa-d566-406b-8106-9b3a4fc90d2e",
   "metadata": {},
   "outputs": [
    {
     "name": "stdout",
     "output_type": "stream",
     "text": [
      "[1 2 3 4 5]\n"
     ]
    }
   ],
   "source": [
    "size = 5\n",
    "Hat = np.arange(1,size+1)\n",
    "print(Hat)"
   ]
  },
  {
   "cell_type": "code",
   "execution_count": 56,
   "id": "ac414da8-da93-4615-8a63-2e3ccc4f64a9",
   "metadata": {},
   "outputs": [
    {
     "name": "stdout",
     "output_type": "stream",
     "text": [
      "3\n",
      "3\n",
      "5\n",
      "1\n",
      "1\n",
      "3\n",
      "1\n",
      "3\n",
      "1\n",
      "1\n",
      "1\n",
      "3\n",
      "1\n",
      "5\n",
      "1\n",
      "3\n",
      "3\n",
      "3\n",
      "1\n",
      "1\n",
      "5\n",
      "1\n",
      "1\n",
      "3\n",
      "1\n",
      "1\n",
      "1\n",
      "1\n",
      "1\n",
      "1\n",
      "1\n",
      "5\n",
      "1\n",
      "1\n",
      "3\n",
      "1\n",
      "1\n",
      "1\n",
      "3\n",
      "3\n",
      "3\n",
      "3\n",
      "1\n",
      "3\n",
      "1\n",
      "1\n",
      "3\n",
      "1\n",
      "3\n",
      "3\n",
      "3\n",
      "1\n",
      "3\n",
      "1\n",
      "1\n",
      "1\n",
      "1\n",
      "1\n",
      "3\n",
      "1\n",
      "1\n",
      "3\n",
      "1\n",
      "1\n",
      "3\n",
      "1\n",
      "1\n",
      "3\n",
      "1\n",
      "1\n",
      "1\n",
      "1\n",
      "1\n",
      "1\n",
      "3\n",
      "1\n",
      "1\n",
      "1\n",
      "1\n",
      "1\n",
      "1\n",
      "1\n",
      "1\n",
      "1\n",
      "1\n",
      "3\n",
      "1\n",
      "1\n",
      "1\n",
      "1\n",
      "1\n",
      "1\n",
      "5\n",
      "3\n",
      "1\n",
      "1\n",
      "1\n",
      "3\n",
      "1\n",
      "1\n",
      "1\n",
      "1\n",
      "3\n",
      "5\n",
      "3\n",
      "1\n",
      "1\n",
      "1\n",
      "1\n",
      "1\n",
      "3\n",
      "3\n",
      "3\n",
      "3\n",
      "1\n",
      "3\n",
      "1\n",
      "1\n",
      "3\n",
      "1\n",
      "3\n",
      "3\n",
      "3\n",
      "1\n",
      "3\n",
      "1\n",
      "3\n",
      "3\n",
      "5\n",
      "3\n",
      "1\n",
      "1\n",
      "3\n",
      "3\n",
      "3\n",
      "3\n",
      "1\n",
      "1\n",
      "3\n",
      "5\n",
      "3\n",
      "3\n",
      "1\n",
      "1\n",
      "1\n",
      "1\n",
      "3\n",
      "3\n",
      "1\n",
      "1\n",
      "1\n",
      "3\n",
      "1\n",
      "1\n",
      "1\n",
      "1\n",
      "3\n",
      "3\n",
      "3\n",
      "1\n",
      "1\n",
      "1\n",
      "1\n",
      "1\n",
      "3\n",
      "1\n",
      "1\n",
      "1\n",
      "1\n",
      "1\n",
      "1\n",
      "1\n",
      "1\n",
      "1\n",
      "1\n",
      "3\n",
      "1\n",
      "1\n",
      "1\n",
      "1\n"
     ]
    }
   ],
   "source": [
    "def stage(n, Hat):\n",
    "    if n == 1:\n",
    "        print(Hat[0])\n",
    "    else:\n",
    "        for i in range(n-1):\n",
    "            for j in range(i+1, n):\n",
    "                if Hat[i] < Hat[j]:\n",
    "                    diff = Hat[j] - Hat[i]\n",
    "                else:\n",
    "                    diff = Hat[i] - Hat[j]\n",
    "                Temp = np.delete(Hat, j)\n",
    "                Temp = np.delete(Temp, i)\n",
    "                Temp = np.append(Temp, diff)\n",
    "                stage(n-1,Temp)\n",
    "                \n",
    "stage(size, Hat)               "
   ]
  },
  {
   "cell_type": "code",
   "execution_count": null,
   "id": "3533ab63-abc8-49fe-a385-740fdb6ddb87",
   "metadata": {},
   "outputs": [],
   "source": [
    "size = 2024\n",
    "Hat = np.arange(1,size+1)\n",
    "global outcomes \n",
    "outcomes = []\n",
    "\n",
    "def checker(n, Hat):\n",
    "    if n == 1:\n",
    "        outcomes.append(Hat[0])\n",
    "    else:\n",
    "        for i in range(n-1):\n",
    "            for j in range(i+1, n):\n",
    "                if Hat[i] < Hat[j]:\n",
    "                    diff = Hat[j] - Hat[i]\n",
    "                else:\n",
    "                    diff = Hat[i] - Hat[j]\n",
    "                Temp = np.delete(Hat, j)\n",
    "                Temp = np.delete(Temp, i)\n",
    "                Temp = np.append(Temp, diff)\n",
    "                checker(n-1,Temp)\n",
    "                \n",
    "checker(size, Hat)"
   ]
  },
  {
   "cell_type": "code",
   "execution_count": null,
   "id": "2150a9b1-1d8b-4936-bfd3-aa52a3bb4e9d",
   "metadata": {},
   "outputs": [],
   "source": []
  }
 ],
 "metadata": {
  "kernelspec": {
   "display_name": "Python 3 (ipykernel)",
   "language": "python",
   "name": "python3"
  },
  "language_info": {
   "codemirror_mode": {
    "name": "ipython",
    "version": 3
   },
   "file_extension": ".py",
   "mimetype": "text/x-python",
   "name": "python",
   "nbconvert_exporter": "python",
   "pygments_lexer": "ipython3",
   "version": "3.9.7"
  }
 },
 "nbformat": 4,
 "nbformat_minor": 5
}
