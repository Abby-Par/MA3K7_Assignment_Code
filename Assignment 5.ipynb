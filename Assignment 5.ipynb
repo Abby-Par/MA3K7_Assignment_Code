{
 "cells": [
  {
   "cell_type": "code",
   "execution_count": 79,
   "id": "4c6958a0-742a-4e2c-b764-0fffa905417d",
   "metadata": {},
   "outputs": [],
   "source": [
    "import numpy as np"
   ]
  },
  {
   "cell_type": "markdown",
   "id": "f2bc83df-6bc7-41fb-80af-21c381572fad",
   "metadata": {},
   "source": [
    "Assignment 5\n",
    "==="
   ]
  },
  {
   "cell_type": "code",
   "execution_count": 211,
   "id": "b9689a80-5cb2-4508-80ec-22b8a30adeec",
   "metadata": {},
   "outputs": [],
   "source": [
    "n = 11\n",
    "final = n*n\n",
    "rows = n - 1\n",
    "cols = n - 1\n",
    "A = np.zeros((n,n))"
   ]
  },
  {
   "cell_type": "code",
   "execution_count": 212,
   "id": "8ee87c55-ead6-456f-bc11-c87a838bf492",
   "metadata": {},
   "outputs": [
    {
     "name": "stdout",
     "output_type": "stream",
     "text": [
      "[[0. 0. 0. 0. 0. 0. 0. 0. 0. 0. 0.]\n",
      " [0. 0. 0. 0. 0. 0. 0. 0. 0. 0. 0.]\n",
      " [0. 0. 0. 0. 0. 0. 0. 0. 0. 0. 0.]\n",
      " [0. 0. 0. 0. 0. 0. 0. 0. 0. 0. 0.]\n",
      " [0. 0. 0. 0. 0. 0. 0. 0. 0. 0. 0.]\n",
      " [0. 0. 0. 0. 0. 0. 0. 0. 0. 0. 0.]\n",
      " [0. 0. 0. 0. 0. 0. 0. 0. 0. 0. 0.]\n",
      " [0. 0. 0. 0. 0. 0. 0. 0. 0. 0. 0.]\n",
      " [0. 0. 0. 0. 0. 0. 0. 0. 0. 0. 0.]\n",
      " [0. 0. 0. 0. 0. 0. 0. 0. 0. 0. 0.]\n",
      " [0. 0. 0. 0. 0. 0. 0. 0. 0. 0. 0.]]\n"
     ]
    }
   ],
   "source": [
    "print(A)"
   ]
  },
  {
   "cell_type": "code",
   "execution_count": 213,
   "id": "f07dec3a-68c8-468d-9302-3bcce6d8ec2c",
   "metadata": {},
   "outputs": [],
   "source": [
    "horizontal = 0\n",
    "vertical = 0\n",
    "if n%2 == 1:\n",
    "    axis = 2\n",
    "else:\n",
    "    axis = 0\n",
    "\n",
    "while(horizontal <= rows and veritcal <= cols):\n",
    "    if axis == 0:\n",
    "        for i in range(vertical, cols+1):\n",
    "            A[horizontal][i] = final\n",
    "            final -= 1\n",
    "        horizontal += 1\n",
    "        axis = 1\n",
    "\n",
    "    elif axis == 1:\n",
    "        for i in range(horizontal,rows+1):\n",
    "            A[i][cols] = final\n",
    "            final -= 1\n",
    "        cols -=1 \n",
    "        axis = 2\n",
    "            \n",
    "    elif axis == 2:\n",
    "        for i in range(cols,vertical-1,-1):\n",
    "            A[rows][i] = final\n",
    "            final -= 1\n",
    "        rows -=1\n",
    "        axis = 3\n",
    "            \n",
    "    elif axis == 3:\n",
    "        for i in range(rows,horizontal-1,-1):\n",
    "            A[i][vertical] = final\n",
    "            final -= 1\n",
    "        vertical +=1\n",
    "        axis = 0"
   ]
  },
  {
   "cell_type": "code",
   "execution_count": 214,
   "id": "d45e3660-c740-4928-98b2-045fb1a1eaa7",
   "metadata": {},
   "outputs": [
    {
     "name": "stdout",
     "output_type": "stream",
     "text": [
      "[[101. 100.  99.  98.  97.  96.  95.  94.  93.  92.  91.]\n",
      " [102.  65.  64.  63.  62.  61.  60.  59.  58.  57.  90.]\n",
      " [103.  66.  37.  36.  35.  34.  33.  32.  31.  56.  89.]\n",
      " [104.  67.  38.  17.  16.  15.  14.  13.  30.  55.  88.]\n",
      " [105.  68.  39.  18.   5.   4.   3.  12.  29.  54.  87.]\n",
      " [106.  69.  40.  19.   6.   1.   2.  11.  28.  53.  86.]\n",
      " [107.  70.  41.  20.   7.   8.   9.  10.  27.  52.  85.]\n",
      " [108.  71.  42.  21.  22.  23.  24.  25.  26.  51.  84.]\n",
      " [109.  72.  43.  44.  45.  46.  47.  48.  49.  50.  83.]\n",
      " [110.  73.  74.  75.  76.  77.  78.  79.  80.  81.  82.]\n",
      " [111. 112. 113. 114. 115. 116. 117. 118. 119. 120. 121.]]\n"
     ]
    }
   ],
   "source": [
    "print(A)"
   ]
  },
  {
   "cell_type": "code",
   "execution_count": 215,
   "id": "df5425d3-0a21-480a-87a3-c078d372f9b5",
   "metadata": {},
   "outputs": [
    {
     "name": "stdout",
     "output_type": "stream",
     "text": [
      "-71066912716800.39\n"
     ]
    }
   ],
   "source": [
    "print(np.linalg.det(A))"
   ]
  },
  {
   "cell_type": "code",
   "execution_count": 216,
   "id": "a45850c1-424c-4d25-88e5-1ef520d8ad82",
   "metadata": {},
   "outputs": [
    {
     "name": "stdout",
     "output_type": "stream",
     "text": [
      "[1166.  833.  630.  525.  486.  481.  482.  501.  570.  721.  986.]\n",
      "[1056.  741.  552.  457.  424.  421.  436.  497.  636.  885. 1276.]\n"
     ]
    }
   ],
   "source": [
    "col_sum = np.zeros(n)\n",
    "row_sum = np.zeros(n)\n",
    "\n",
    "for i in range(n):\n",
    "    for j in range(n):\n",
    "        col_sum[i] += A[j][i]\n",
    "        row_sum[i] += A[i][j]\n",
    "print(col_sum)\n",
    "print(row_sum)"
   ]
  },
  {
   "cell_type": "code",
   "execution_count": null,
   "id": "261c49fe-23ba-4653-b8cb-7829bff6949e",
   "metadata": {},
   "outputs": [],
   "source": []
  }
 ],
 "metadata": {
  "kernelspec": {
   "display_name": "Python 3 (ipykernel)",
   "language": "python",
   "name": "python3"
  },
  "language_info": {
   "codemirror_mode": {
    "name": "ipython",
    "version": 3
   },
   "file_extension": ".py",
   "mimetype": "text/x-python",
   "name": "python",
   "nbconvert_exporter": "python",
   "pygments_lexer": "ipython3",
   "version": "3.9.7"
  }
 },
 "nbformat": 4,
 "nbformat_minor": 5
}
