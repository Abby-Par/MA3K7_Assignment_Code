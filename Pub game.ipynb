{
 "cells": [
  {
   "cell_type": "code",
   "execution_count": 1,
   "id": "8d9649fd-d2d0-4cde-bffe-424872967971",
   "metadata": {},
   "outputs": [],
   "source": [
    "import numpy as np"
   ]
  },
  {
   "cell_type": "markdown",
   "id": "813e59e6-be81-4a51-981f-7e48d1d5c000",
   "metadata": {},
   "source": [
    "Task A Question 3\n",
    "---"
   ]
  },
  {
   "cell_type": "markdown",
   "id": "b9075f52-85c8-41d0-a3da-4323d6791d27",
   "metadata": {},
   "source": [
    "Setting up the empty glasses"
   ]
  },
  {
   "cell_type": "code",
   "execution_count": 4,
   "id": "7d062d38-d696-44c1-a5cb-0555f2aede3d",
   "metadata": {},
   "outputs": [],
   "source": [
    "n = 3\n",
    "glasses = np.zeros(n)"
   ]
  },
  {
   "cell_type": "markdown",
   "id": "0d7f60bc-cb4a-44e1-a303-ec95d0e97a7e",
   "metadata": {},
   "source": [
    "A generic strategy for Ali"
   ]
  },
  {
   "cell_type": "code",
   "execution_count": 31,
   "id": "22e0c603-f7b9-4dfc-aab4-a24de6919d1a",
   "metadata": {},
   "outputs": [],
   "source": [
    "def ali(glasses):\n",
    "    print(\"Ok\")"
   ]
  },
  {
   "cell_type": "markdown",
   "id": "82be6eb2-fe92-4d73-b14d-81c8a0b02624",
   "metadata": {},
   "source": [
    "A generic strategy for Beth"
   ]
  },
  {
   "cell_type": "code",
   "execution_count": 28,
   "id": "5fcb06bc-6e5c-48c4-a2dc-551eee5ae0e3",
   "metadata": {},
   "outputs": [],
   "source": [
    "def beth(glasses):\n",
    "    largest = 0\n",
    "    glass_1 = 0\n",
    "    glass_2 = 1\n",
    "    zero_1 = 0\n",
    "    zero_2 = 1\n",
    "    for i in range(n):\n",
    "        glasses_sum = glasses[glass_1]+glasses[glass_2]\n",
    "        if glasses_sum > largest:\n",
    "            zero_1 = glass_1\n",
    "            zero_2 = glass_2\n",
    "            largest = glasses_sum\n",
    "        glass_1 += 1\n",
    "        glass_2 += 1\n",
    "        if glass_2 == n:\n",
    "            glass_2 = 0\n",
    "    glasses[zero_1] = 0\n",
    "    glasses[zero_2] = 0"
   ]
  },
  {
   "cell_type": "markdown",
   "id": "30a5817d-3878-4ca0-b548-8e90bf9b4792",
   "metadata": {},
   "source": [
    "A generic strategy for Ali:"
   ]
  },
  {
   "cell_type": "code",
   "execution_count": 100,
   "id": "1f56e179-13a9-4c03-a16c-9c5b2fbb93c3",
   "metadata": {},
   "outputs": [],
   "source": [
    "def ali(glasses):\n",
    "    divisor = 0\n",
    "    for i in range(n):\n",
    "        divisor += i\n",
    "        divisor += 1\n",
    "    for j in range(n):\n",
    "        glasses[j]+= ((1/2) / divisor)*(j+1)\n",
    "        "
   ]
  },
  {
   "cell_type": "markdown",
   "id": "6a425e58-879c-42cb-90e9-b94ec64ee47c",
   "metadata": {},
   "source": [
    "One of the other strategies I tried for Ali"
   ]
  },
  {
   "cell_type": "code",
   "execution_count": null,
   "id": "d2cef11a-3884-4c2c-b61f-396de9453730",
   "metadata": {},
   "outputs": [],
   "source": [
    "def ali(glasses):\n",
    "    divisor = 0\n",
    "    for i in range(n):\n",
    "        divisor += i\n",
    "        divisor += 1\n",
    "    divisor = divisor / 2\n",
    "    for j in range(n):\n",
    "        if j % 2 == 0:\n",
    "            glasses[j]+= ((1/2) / divisor)*(j+1)"
   ]
  },
  {
   "cell_type": "markdown",
   "id": "664d5c45-c0f0-4378-afac-17526a480e79",
   "metadata": {},
   "source": [
    "Playing the game"
   ]
  },
  {
   "cell_type": "code",
   "execution_count": 51,
   "id": "57e1c545-04b6-4741-9706-c149fd3fccd0",
   "metadata": {},
   "outputs": [],
   "source": [
    "def game(n):\n",
    "    glasses = np.zeros(n)\n",
    "    AWin = False\n",
    "    for k in range(1000):\n",
    "        if k%2 == 0:\n",
    "            ali(glasses)\n",
    "        else:\n",
    "            beth(glasses)\n",
    "        for l in range(n):\n",
    "            if glasses[l] > 1:\n",
    "                AWin = True\n",
    "                break\n",
    "    if AWin == True:\n",
    "        print(\"Ali Wins!\")\n",
    "    else:\n",
    "        print(\"Beth Wins!\")\n"
   ]
  },
  {
   "cell_type": "code",
   "execution_count": 111,
   "id": "a387804c-9aef-4b9b-a9e2-b32d1745d33f",
   "metadata": {},
   "outputs": [
    {
     "name": "stdout",
     "output_type": "stream",
     "text": [
      "Beth Wins!\n",
      "Beth Wins!\n",
      "Beth Wins!\n",
      "Beth Wins!\n",
      "Beth Wins!\n",
      "Beth Wins!\n",
      "Beth Wins!\n",
      "Beth Wins!\n",
      "Beth Wins!\n",
      "Beth Wins!\n"
     ]
    }
   ],
   "source": [
    "n=5\n",
    "for m in range(10):\n",
    "    game(n)"
   ]
  },
  {
   "cell_type": "code",
   "execution_count": 112,
   "id": "3e167c7c-5b0c-4f02-b9cf-e21b740a05f8",
   "metadata": {},
   "outputs": [
    {
     "name": "stdout",
     "output_type": "stream",
     "text": [
      "Beth Wins!\n",
      "Beth Wins!\n",
      "Beth Wins!\n",
      "Beth Wins!\n",
      "Beth Wins!\n",
      "Beth Wins!\n",
      "Beth Wins!\n",
      "Beth Wins!\n",
      "Beth Wins!\n",
      "Beth Wins!\n"
     ]
    }
   ],
   "source": [
    "n = 6\n",
    "for m in range(10):\n",
    "    game(n)"
   ]
  },
  {
   "cell_type": "code",
   "execution_count": 113,
   "id": "5bbb8ede-57a1-4c47-96a3-097ce0dc2864",
   "metadata": {},
   "outputs": [
    {
     "name": "stdout",
     "output_type": "stream",
     "text": [
      "Beth Wins!\n",
      "Beth Wins!\n",
      "Beth Wins!\n",
      "Beth Wins!\n",
      "Beth Wins!\n",
      "Beth Wins!\n",
      "Beth Wins!\n",
      "Beth Wins!\n",
      "Beth Wins!\n",
      "Beth Wins!\n"
     ]
    }
   ],
   "source": [
    "n=7\n",
    "for m in range(10):\n",
    "    game(n)"
   ]
  },
  {
   "cell_type": "markdown",
   "id": "23b98266-67c4-4db3-8afc-175706e0aa36",
   "metadata": {},
   "source": [
    "Winning strategy for n = 3"
   ]
  },
  {
   "cell_type": "code",
   "execution_count": 34,
   "id": "453fa2d0-9271-4c87-8cfb-5383b8fbea30",
   "metadata": {},
   "outputs": [],
   "source": [
    "def beth3(glasses,step):\n",
    "    if (step/2) % 3 == 0:\n",
    "        glasses[0] = 0 \n",
    "        glasses[1] = 0\n",
    "    elif (step/2) % 3 == 1:\n",
    "        glasses[1] = 0 \n",
    "        glasses[2] = 0\n",
    "    elif (step/2) % 3 == 2:\n",
    "        glasses[2] = 0 \n",
    "        glasses[0] = 0"
   ]
  },
  {
   "cell_type": "markdown",
   "id": "e4ab7288-b5d8-4aef-b48f-a79c09f4d0fd",
   "metadata": {},
   "source": [
    "Winning strategy for n=4"
   ]
  },
  {
   "cell_type": "code",
   "execution_count": 35,
   "id": "4f2438fe-8386-4b00-9fa4-aca1a0a5c704",
   "metadata": {},
   "outputs": [],
   "source": [
    "def beth4(glasses,step):\n",
    "    if (step/2) % 2 == 0:\n",
    "        glasses[0] = 0\n",
    "        glasses[1] = 0\n",
    "    elif (step/2) % 2 == 1:\n",
    "        glasses[2] = 0\n",
    "        glasses[3] = 0"
   ]
  },
  {
   "cell_type": "code",
   "execution_count": null,
   "id": "e508d2b3-4197-4cb7-85c1-d4a170494849",
   "metadata": {},
   "outputs": [],
   "source": []
  },
  {
   "cell_type": "markdown",
   "id": "b558da47-8fb5-4e5d-a284-ef92ca9dc2f0",
   "metadata": {},
   "source": [
    "Winning strategy for n greater than or equal to 8"
   ]
  },
  {
   "cell_type": "code",
   "execution_count": 105,
   "id": "8be1cee6-15bd-4f7e-84fc-fa74a74f58cb",
   "metadata": {},
   "outputs": [],
   "source": [
    "def Ali8(glasses,step):\n",
    "    if step == 1:\n",
    "        for i in range(4):\n",
    "            glasses[2*i+1] = (1/2) / 4\n",
    "    elif step == 3:\n",
    "        for i in range(8):\n",
    "            if glasses[i] != 0:\n",
    "                glasses[i] += (1/2) / 3\n",
    "    elif step == 5:\n",
    "        for i in range(8):\n",
    "            if glasses[i] != 0:\n",
    "                glasses[i] += (1/2) / 2\n",
    "    elif step == 7:\n",
    "        for i in range(8):\n",
    "            if glasses[i] != 0:\n",
    "                glasses[i] += (1/2)"
   ]
  },
  {
   "cell_type": "code",
   "execution_count": 106,
   "id": "63f3d667-3bff-4f53-8eca-d118f54808fc",
   "metadata": {},
   "outputs": [],
   "source": [
    "def check_winning(n):\n",
    "    glasses = np.zeros(n)\n",
    "    AWin = False\n",
    "    for k in range(1000):\n",
    "        if k%2 == 0:\n",
    "            if n>= 8:\n",
    "                Ali8(glasses,k+1)\n",
    "            else:\n",
    "                ali(glasses)\n",
    "        else:\n",
    "            if n == 3:\n",
    "                beth3(glasses,k+1)\n",
    "            elif n == 4:\n",
    "                beth4(glasses,k+1)\n",
    "            else:\n",
    "                beth(glasses)\n",
    "        for l in range(n):\n",
    "            if glasses[l] > 1:\n",
    "                AWin = True\n",
    "                break\n",
    "    if AWin == True:\n",
    "        print(\"Ali Wins!\")\n",
    "    else:\n",
    "        print(\"Beth Wins!\")"
   ]
  },
  {
   "cell_type": "code",
   "execution_count": 107,
   "id": "18590c93-723e-45e3-92f8-b4e4bd8ed6c1",
   "metadata": {},
   "outputs": [
    {
     "name": "stdout",
     "output_type": "stream",
     "text": [
      "Beth Wins!\n"
     ]
    }
   ],
   "source": [
    "n=3\n",
    "check_winning(n)"
   ]
  },
  {
   "cell_type": "code",
   "execution_count": 108,
   "id": "9ae23fb2-9b4b-48cf-a535-688d20486655",
   "metadata": {},
   "outputs": [
    {
     "name": "stdout",
     "output_type": "stream",
     "text": [
      "Beth Wins!\n"
     ]
    }
   ],
   "source": [
    "n=4\n",
    "check_winning(n)"
   ]
  },
  {
   "cell_type": "code",
   "execution_count": 109,
   "id": "cce677bf-ad21-496c-bd01-22d1cb6cd3a3",
   "metadata": {},
   "outputs": [
    {
     "name": "stdout",
     "output_type": "stream",
     "text": [
      "Ali Wins!\n"
     ]
    }
   ],
   "source": [
    "n=8\n",
    "check_winning(n)"
   ]
  },
  {
   "cell_type": "code",
   "execution_count": 110,
   "id": "4208da25-1e44-4371-ae04-5e5663cdd085",
   "metadata": {},
   "outputs": [
    {
     "name": "stdout",
     "output_type": "stream",
     "text": [
      "Ali Wins!\n"
     ]
    }
   ],
   "source": [
    "n=10\n",
    "check_winning(n)"
   ]
  },
  {
   "cell_type": "code",
   "execution_count": null,
   "id": "fe7a937e-274c-4cad-9236-837557f835f3",
   "metadata": {},
   "outputs": [],
   "source": []
  }
 ],
 "metadata": {
  "kernelspec": {
   "display_name": "Python 3 (ipykernel)",
   "language": "python",
   "name": "python3"
  },
  "language_info": {
   "codemirror_mode": {
    "name": "ipython",
    "version": 3
   },
   "file_extension": ".py",
   "mimetype": "text/x-python",
   "name": "python",
   "nbconvert_exporter": "python",
   "pygments_lexer": "ipython3",
   "version": "3.9.7"
  }
 },
 "nbformat": 4,
 "nbformat_minor": 5
}
