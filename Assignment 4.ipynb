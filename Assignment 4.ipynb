{
 "cells": [
  {
   "cell_type": "code",
   "execution_count": 42,
   "id": "99d58c29-f874-435f-8eee-62a1ed552b14",
   "metadata": {},
   "outputs": [],
   "source": [
    "import numpy as np\n",
    "import matplotlib.pyplot as plt"
   ]
  },
  {
   "cell_type": "markdown",
   "id": "0880832f-0f37-423e-90c4-de4804416eef",
   "metadata": {},
   "source": [
    "Assignment 4\n",
    "---"
   ]
  },
  {
   "cell_type": "code",
   "execution_count": 22,
   "id": "25aae048-3719-490e-a8c5-bc4aa773329a",
   "metadata": {},
   "outputs": [],
   "source": [
    "def fact(x):\n",
    "    result = 1\n",
    "    for i in range(1,x+1):\n",
    "        result = result*i\n",
    "    return result"
   ]
  },
  {
   "cell_type": "code",
   "execution_count": 31,
   "id": "20f82029-d0c0-4537-81c3-267ee1f568b1",
   "metadata": {},
   "outputs": [],
   "source": [
    "def coeff(a,b):\n",
    "    return int(fact(a+b)/(fact(a)*fact(b)))"
   ]
  },
  {
   "cell_type": "code",
   "execution_count": 35,
   "id": "474049a1-1c5c-453d-9363-323391db96ae",
   "metadata": {},
   "outputs": [],
   "source": [
    "def prob(n):\n",
    "    result = 0\n",
    "    if n % 2 == 0:\n",
    "        for b in range(int(n/2)):\n",
    "            a = n - 1 - 2*b\n",
    "            result += coeff(a,b)*((1/2)**(a+b))\n",
    "    else:\n",
    "        for b in range(int((n+1)/2)):\n",
    "            a = n - 1 - 2*b\n",
    "            result += coeff(a,b)*((1/2)**(a+b))\n",
    "    return result"
   ]
  },
  {
   "cell_type": "code",
   "execution_count": 37,
   "id": "d4e4bda4-bea1-40ce-9aa4-41f240b65c17",
   "metadata": {},
   "outputs": [
    {
     "data": {
      "text/plain": [
       "0.6666666865348816"
      ]
     },
     "execution_count": 37,
     "metadata": {},
     "output_type": "execute_result"
    }
   ],
   "source": [
    "prob(25)"
   ]
  },
  {
   "cell_type": "code",
   "execution_count": 79,
   "id": "6d627696-88fd-4734-b2a7-523a7a2de074",
   "metadata": {},
   "outputs": [
    {
     "name": "stdout",
     "output_type": "stream",
     "text": [
      "11628\n"
     ]
    }
   ],
   "source": [
    "print(coeff(14,5))"
   ]
  },
  {
   "cell_type": "code",
   "execution_count": 65,
   "id": "63d17257-1b54-45db-bf10-42e28eb50490",
   "metadata": {},
   "outputs": [
    {
     "name": "stdout",
     "output_type": "stream",
     "text": [
      "0.6666666865348816\n"
     ]
    }
   ],
   "source": [
    "print(1*((1/2)**12)+78*((1/2)**13)+1001*((1/2)**14)+5005*((1/2)**15)+12870*((1/2)**16)+19448*((1/2)**17)\n",
    "      +18564*((1/2)**18)+11628*((1/2)**19)+4845*((1/2)**20)+1330*((1/2)**21)+231*((1/2)**22)+23*((1/2)**23)+1*((1/2)**24))"
   ]
  },
  {
   "cell_type": "code",
   "execution_count": 73,
   "id": "f42a8d45-9323-44cd-83ea-9dfee0a24ac1",
   "metadata": {},
   "outputs": [],
   "source": [
    "n = np.arange(51)"
   ]
  },
  {
   "cell_type": "code",
   "execution_count": 74,
   "id": "b7223749-a4bb-4dc5-b358-6b9119a95a6a",
   "metadata": {},
   "outputs": [],
   "source": [
    "Probs = np.zeros(51)"
   ]
  },
  {
   "cell_type": "code",
   "execution_count": 75,
   "id": "f81bf5d6-63e1-410a-8a75-86e840322b64",
   "metadata": {},
   "outputs": [],
   "source": [
    "for i in n:\n",
    "    Probs[i] = prob(i)"
   ]
  },
  {
   "cell_type": "code",
   "execution_count": 78,
   "id": "24065038-9902-4a7d-91fc-ce50a30c09e4",
   "metadata": {},
   "outputs": [
    {
     "data": {
      "image/png": "[encoded data removed]",
      "text/plain": [
       "<Figure size 432x288 with 1 Axes>"
      ]
     },
     "metadata": {
      "needs_background": "light"
     },
     "output_type": "display_data"
    }
   ],
   "source": [
    "plt.plot(n, Probs, 'm.')\n",
    "plt.xlabel(\"n\")\n",
    "plt.ylabel(\"Probability of landing on step n\")\n",
    "plt.savefig(\"probs.png\")\n",
    "plt.show()"
   ]
  },
  {
   "cell_type": "code",
   "execution_count": null,
   "id": "a740eb1c-2435-4963-869c-3dd696dc59db",
   "metadata": {},
   "outputs": [],
   "source": []
  }
 ],
 "metadata": {
  "kernelspec": {
   "display_name": "Python 3 (ipykernel)",
   "language": "python",
   "name": "python3"
  },
  "language_info": {
   "codemirror_mode": {
    "name": "ipython",
    "version": 3
   },
   "file_extension": ".py",
   "mimetype": "text/x-python",
   "name": "python",
   "nbconvert_exporter": "python",
   "pygments_lexer": "ipython3",
   "version": "3.9.7"
  }
 },
 "nbformat": 4,
 "nbformat_minor": 5
}
